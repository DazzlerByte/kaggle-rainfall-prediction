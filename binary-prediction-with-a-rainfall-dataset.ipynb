{
 "cells": [
  {
   "cell_type": "code",
   "execution_count": 1,
   "id": "42ded136",
   "metadata": {
    "_cell_guid": "b1076dfc-b9ad-4769-8c92-a6c4dae69d19",
    "_uuid": "8f2839f25d086af736a60e9eeb907d3b93b6e0e5",
    "execution": {
     "iopub.execute_input": "2025-03-06T21:19:54.886839Z",
     "iopub.status.busy": "2025-03-06T21:19:54.886439Z",
     "iopub.status.idle": "2025-03-06T21:19:58.168266Z",
     "shell.execute_reply": "2025-03-06T21:19:58.167091Z"
    },
    "papermill": {
     "duration": 3.286624,
     "end_time": "2025-03-06T21:19:58.169975",
     "exception": false,
     "start_time": "2025-03-06T21:19:54.883351",
     "status": "completed"
    },
    "tags": []
   },
   "outputs": [
    {
     "name": "stdout",
     "output_type": "stream",
     "text": [
      "Validation AUC: 0.8572\n",
      "Submission file saved as /kaggle/working/submission.csv\n"
     ]
    }
   ],
   "source": [
    "import pandas as pd\n",
    "import numpy as np\n",
    "from sklearn.model_selection import train_test_split\n",
    "from sklearn.ensemble import RandomForestClassifier\n",
    "from sklearn.metrics import roc_auc_score\n",
    "from sklearn.preprocessing import StandardScaler\n",
    "from sklearn.impute import SimpleImputer\n",
    "\n",
    "# Load datasets\n",
    "train_path = \"/kaggle/input/playground-series-s5e3/train.csv\"\n",
    "test_path = \"/kaggle/input/playground-series-s5e3/test.csv\"\n",
    "submission_path = \"/kaggle/input/playground-series-s5e3/sample_submission.csv\"\n",
    "\n",
    "train_df = pd.read_csv(train_path)\n",
    "test_df = pd.read_csv(test_path)\n",
    "submission_df = pd.read_csv(submission_path)\n",
    "\n",
    "# Handle missing values\n",
    "imputer = SimpleImputer(strategy=\"mean\")\n",
    "\n",
    "# Extract features and target\n",
    "X = train_df.drop(columns=['id', 'rainfall'])  # Assuming 'rainfall' is the target variable\n",
    "y = train_df['rainfall']\n",
    "X_test = test_df.drop(columns=['id'])\n",
    "\n",
    "# Impute missing values\n",
    "X = pd.DataFrame(imputer.fit_transform(X), columns=X.columns)\n",
    "X_test = pd.DataFrame(imputer.transform(X_test), columns=X_test.columns)\n",
    "\n",
    "# Train-test split\n",
    "X_train, X_valid, y_train, y_valid = train_test_split(X, y, test_size=0.2, random_state=42)\n",
    "\n",
    "# Standardize the data\n",
    "scaler = StandardScaler()\n",
    "X_train_scaled = scaler.fit_transform(X_train)\n",
    "X_valid_scaled = scaler.transform(X_valid)\n",
    "X_test_scaled = scaler.transform(X_test)\n",
    "\n",
    "# Train model\n",
    "model = RandomForestClassifier(n_estimators=100, random_state=42)\n",
    "model.fit(X_train_scaled, y_train)\n",
    "\n",
    "# Evaluate model\n",
    "valid_preds = model.predict_proba(X_valid_scaled)[:, 1]\n",
    "auc_score = roc_auc_score(y_valid, valid_preds)\n",
    "print(f'Validation AUC: {auc_score:.4f}')\n",
    "\n",
    "# Make predictions on test data\n",
    "test_preds = model.predict_proba(X_test_scaled)[:, 1]\n",
    "\n",
    "# Prepare submission\n",
    "submission_df['rainfall'] = test_preds\n",
    "submission_df.to_csv(\"/kaggle/working/submission.csv\", index=False)\n",
    "\n",
    "print(\"Submission file saved as /kaggle/working/submission.csv\")\n"
   ]
  }
 ],
 "metadata": {
  "kaggle": {
   "accelerator": "none",
   "dataSources": [
    {
     "databundleVersionId": 11251744,
     "sourceId": 91714,
     "sourceType": "competition"
    }
   ],
   "dockerImageVersionId": 30918,
   "isGpuEnabled": false,
   "isInternetEnabled": true,
   "language": "python",
   "sourceType": "notebook"
  },
  "kernelspec": {
   "display_name": "Python 3",
   "language": "python",
   "name": "python3"
  },
  "language_info": {
   "codemirror_mode": {
    "name": "ipython",
    "version": 3
   },
   "file_extension": ".py",
   "mimetype": "text/x-python",
   "name": "python",
   "nbconvert_exporter": "python",
   "pygments_lexer": "ipython3",
   "version": "3.10.12"
  },
  "papermill": {
   "default_parameters": {},
   "duration": 6.769667,
   "end_time": "2025-03-06T21:19:58.891520",
   "environment_variables": {},
   "exception": null,
   "input_path": "__notebook__.ipynb",
   "output_path": "__notebook__.ipynb",
   "parameters": {},
   "start_time": "2025-03-06T21:19:52.121853",
   "version": "2.6.0"
  }
 },
 "nbformat": 4,
 "nbformat_minor": 5
}
